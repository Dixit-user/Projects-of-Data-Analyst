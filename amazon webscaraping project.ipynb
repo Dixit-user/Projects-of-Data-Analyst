{
 "cells": [
  {
   "cell_type": "code",
   "execution_count": 5,
   "id": "664c7d70-31b7-4ed9-a419-46c5d54e3fd8",
   "metadata": {},
   "outputs": [],
   "source": [
    "from bs4 import BeautifulSoup\n",
    "import requests\n",
    "import time\n",
    "import datetime\n",
    "\n",
    "import smtplib"
   ]
  },
  {
   "cell_type": "code",
   "execution_count": 65,
   "id": "1514f2cb-f8eb-451d-bad0-71f19dc453ad",
   "metadata": {},
   "outputs": [
    {
     "name": "stdout",
     "output_type": "stream",
     "text": [
      "\n",
      "           PlayStation®5 Console STD SLIM (COD Bundle)\n",
      "          \n",
      "\n",
      "\n",
      "                              ₹54,990.00\n",
      "                             \n",
      "\n",
      "\n",
      "                               ₹\n",
      "                              \n",
      "\n",
      "                               54,990\n",
      "                               \n",
      "                                .\n",
      "                               \n",
      "\n",
      "\n",
      "                               00\n",
      "                              \n",
      "\n",
      "\n"
     ]
    }
   ],
   "source": [
    "URL = \"https://www.amazon.in/PlayStation%C2%AE5-Console-STD-SLIM-Bundle/dp/B0FG835ZCY/ref=sr_1_2?sr=8-2\"\n",
    "\n",
    "headers = {    \n",
    "        'User-Agent': 'Mozilla/5.0 (Windows NT 10.0; Win64; x64) AppleWebKit/537.36 (KHTML, like Gecko) Chrome/121.0.0.0 Safari/537.36'\n",
    "    }\n",
    "\n",
    "page = requests.get(URL, headers= headers)\n",
    "\n",
    "soup1 = BeautifulSoup(page.content, \"html.parser\")\n",
    "\n",
    "soup2 = BeautifulSoup(soup1.prettify(), \"html.parser\")\n",
    "\n",
    "title = soup2.find(id='productTitle').get_text()\n",
    "\n",
    "#price = soup2.find(id='a-price').get_text()\n",
    "price = soup2.find(\"span\", {\"class\": \"a-price\"}).get_text()\n",
    "\n",
    " #Extract the price text\n",
    "#price_text = price_element.get_text()\n",
    "\n",
    "\n",
    "print(title)\n",
    "print(price)\n",
    "#print(price)"
   ]
  },
  {
   "cell_type": "code",
   "execution_count": 66,
   "id": "e5528fc4-fbf4-490c-8305-a2b627570ed5",
   "metadata": {},
   "outputs": [
    {
     "name": "stdout",
     "output_type": "stream",
     "text": [
      "PlayStation®5 Console STD SLIM (COD Bundle)\n",
      "54,990.00\n",
      "                             \n",
      "\n",
      "\n",
      "                               ₹\n",
      "                              \n",
      "\n",
      "                               54,990\n",
      "                               \n",
      "                                .\n",
      "                               \n",
      "\n",
      "\n",
      "                               00\n"
     ]
    }
   ],
   "source": [
    "price = price.strip()[1:]\n",
    "title = title.strip()\n",
    "\n",
    "print(title)\n",
    "print(price)"
   ]
  },
  {
   "cell_type": "code",
   "execution_count": 67,
   "id": "5c82e14d-34a9-43c8-961a-99862a8f1562",
   "metadata": {},
   "outputs": [
    {
     "name": "stdout",
     "output_type": "stream",
     "text": [
      "2025-07-31\n"
     ]
    }
   ],
   "source": [
    "today = datetime.date.today()\n",
    "\n",
    "print(today)"
   ]
  },
  {
   "cell_type": "code",
   "execution_count": 71,
   "id": "c2ca5856-5f88-4f92-95a7-2c9d5757ed27",
   "metadata": {},
   "outputs": [],
   "source": [
    "#create csv and write headers and data into the file\n",
    "\n",
    "import csv\n",
    "\n",
    "header = ['Title','Price','Today']\n",
    "data = [title, price, today]\n",
    "\n",
    "#with open('Untitled.csv', 'w', newline='', encoding= 'UTF8') as f:\n",
    "    #writer = csv.writer(f)\n",
    "    #writer.writerow(header)\n",
    "    #writer.writerow(data)"
   ]
  },
  {
   "cell_type": "code",
   "execution_count": 90,
   "id": "f8d65467-63b7-4ee7-ac66-c68b380cd299",
   "metadata": {},
   "outputs": [
    {
     "name": "stdout",
     "output_type": "stream",
     "text": [
      "                                         Title  \\\n",
      "0  PlayStation®5 Console STD SLIM (COD Bundle)   \n",
      "1  PlayStation®5 Console STD SLIM (COD Bundle)   \n",
      "\n",
      "                                               Price       Today  \n",
      "0  54,990.00\\n                             \\n\\n\\n...  2025-07-31  \n",
      "1  54,990.00\\n                             \\n\\n\\n...  2025-07-31  \n"
     ]
    }
   ],
   "source": [
    "import pandas as pd\n",
    "df = pd.read_csv('C:/Users/Administrator/Untitled.csv')\n",
    "\n",
    "print(df)"
   ]
  },
  {
   "cell_type": "code",
   "execution_count": 86,
   "id": "b8801e22-d558-4dd1-925c-a89f38340dd4",
   "metadata": {},
   "outputs": [],
   "source": [
    "with open('Untitled.csv', 'a+', newline='', encoding= 'UTF8') as f:\n",
    "    writer = csv.writer(f)\n",
    "    writer.writerow(data)"
   ]
  },
  {
   "cell_type": "code",
   "execution_count": 93,
   "id": "e44922a3-5d8a-49f8-92e3-819ecf44f847",
   "metadata": {},
   "outputs": [],
   "source": [
    "\n",
    "def check_price():\n",
    "    URL = \"https://www.amazon.in/PlayStation%C2%AE5-Console-STD-SLIM-Bundle/dp/B0FG835ZCY/ref=sr_1_2?sr=8-2\"\n",
    "\n",
    "    headers = {    \n",
    "        'User-Agent': 'Mozilla/5.0 (Windows NT 10.0; Win64; x64) AppleWebKit/537.36 (KHTML, like Gecko) Chrome/121.0.0.0 Safari/537.36'\n",
    "    }\n",
    "\n",
    "    page = requests.get(URL, headers= headers)\n",
    "\n",
    "    soup1 = BeautifulSoup(page.content, \"html.parser\")\n",
    "\n",
    "    soup2 = BeautifulSoup(soup1.prettify(), \"html.parser\")\n",
    "\n",
    "    title = soup2.find(id='productTitle').get_text()\n",
    "\n",
    "    #price = soup2.find(id='a-price').get_text()\n",
    "    price = soup2.find(\"span\", {\"class\": \"a-price\"}).get_text()\n",
    "\n",
    "     #Extract the price text\n",
    "    #price_text = price_element.get_text()\n",
    "\n",
    "    today = datetime.date.today()\n",
    "\n",
    "    import csv\n",
    "\n",
    "    header = ['Title','Price','Today']\n",
    "    data = [title, price, today]\n",
    "\n",
    "    with open('Untitled.csv', 'a+', newline='', encoding= 'UTF8') as f:\n",
    "        writer = csv.writer(f)\n",
    "        writer.writerow(data)\n",
    "   "
   ]
  },
  {
   "cell_type": "code",
   "execution_count": 95,
   "id": "9dfc1bef-c9e1-4d6a-9609-5dbbe680cb93",
   "metadata": {},
   "outputs": [
    {
     "ename": "KeyboardInterrupt",
     "evalue": "",
     "output_type": "error",
     "traceback": [
      "\u001b[1;31m---------------------------------------------------------------------------\u001b[0m",
      "\u001b[1;31mKeyboardInterrupt\u001b[0m                         Traceback (most recent call last)",
      "Cell \u001b[1;32mIn[95], line 3\u001b[0m\n\u001b[0;32m      1\u001b[0m \u001b[38;5;28;01mwhile\u001b[39;00m(\u001b[38;5;28;01mTrue\u001b[39;00m):\n\u001b[0;32m      2\u001b[0m     check_price()\n\u001b[1;32m----> 3\u001b[0m     time\u001b[38;5;241m.\u001b[39msleep(\u001b[38;5;241m5\u001b[39m)\n",
      "\u001b[1;31mKeyboardInterrupt\u001b[0m: "
     ]
    }
   ],
   "source": [
    "while(True):\n",
    "    check_price()\n",
    "    time.sleep(86400)"
   ]
  },
  {
   "cell_type": "code",
   "execution_count": 96,
   "id": "015bd420-09af-4152-9122-864526d0538d",
   "metadata": {},
   "outputs": [
    {
     "name": "stdout",
     "output_type": "stream",
     "text": [
      "                                                Title  \\\n",
      "0         PlayStation®5 Console STD SLIM (COD Bundle)   \n",
      "1         PlayStation®5 Console STD SLIM (COD Bundle)   \n",
      "2   \\n           PlayStation®5 Console STD SLIM (C...   \n",
      "3   \\n           PlayStation®5 Console STD SLIM (C...   \n",
      "4   \\n           PlayStation®5 Console STD SLIM (C...   \n",
      "5   \\n           PlayStation®5 Console STD SLIM (C...   \n",
      "6   \\n           PlayStation®5 Console STD SLIM (C...   \n",
      "7   \\n           PlayStation®5 Console STD SLIM (C...   \n",
      "8   \\n           PlayStation®5 Console STD SLIM (C...   \n",
      "9   \\n           PlayStation®5 Console STD SLIM (C...   \n",
      "10  \\n           PlayStation®5 Console STD SLIM (C...   \n",
      "11  \\n           PlayStation®5 Console STD SLIM (C...   \n",
      "12  \\n           PlayStation®5 Console STD SLIM (C...   \n",
      "13  \\n           PlayStation®5 Console STD SLIM (C...   \n",
      "14  \\n           PlayStation®5 Console STD SLIM (C...   \n",
      "15  \\n           PlayStation®5 Console STD SLIM (C...   \n",
      "16  \\n           PlayStation®5 Console STD SLIM (C...   \n",
      "17  \\n           PlayStation®5 Console STD SLIM (C...   \n",
      "18  \\n           PlayStation®5 Console STD SLIM (C...   \n",
      "\n",
      "                                                Price       Today  \n",
      "0   54,990.00\\n                             \\n\\n\\n...  2025-07-31  \n",
      "1   54,990.00\\n                             \\n\\n\\n...  2025-07-31  \n",
      "2   \\n\\n                              ₹54,990.00\\n...  2025-07-31  \n",
      "3   \\n\\n                              ₹54,990.00\\n...  2025-07-31  \n",
      "4   \\n\\n                              ₹54,990.00\\n...  2025-07-31  \n",
      "5   \\n\\n                              ₹54,990.00\\n...  2025-07-31  \n",
      "6   \\n\\n                              ₹54,990.00\\n...  2025-07-31  \n",
      "7   \\n\\n                              ₹54,990.00\\n...  2025-07-31  \n",
      "8   \\n\\n                              ₹54,990.00\\n...  2025-07-31  \n",
      "9   \\n\\n                              ₹54,990.00\\n...  2025-07-31  \n",
      "10  \\n\\n                              ₹54,990.00\\n...  2025-07-31  \n",
      "11  \\n\\n                              ₹54,990.00\\n...  2025-07-31  \n",
      "12  \\n\\n                              ₹54,990.00\\n...  2025-07-31  \n",
      "13  \\n\\n                              ₹54,990.00\\n...  2025-07-31  \n",
      "14  \\n\\n                              ₹54,990.00\\n...  2025-07-31  \n",
      "15  \\n\\n                              ₹54,990.00\\n...  2025-07-31  \n",
      "16  \\n\\n                              ₹54,990.00\\n...  2025-07-31  \n",
      "17  \\n\\n                              ₹54,990.00\\n...  2025-07-31  \n",
      "18  \\n\\n                              ₹54,990.00\\n...  2025-07-31  \n"
     ]
    }
   ],
   "source": [
    "import pandas as pd \n",
    "df = pd.read_csv('C:/Users/Administrator/Untitled.csv')\n",
    "\n",
    "print(df)"
   ]
  },
  {
   "cell_type": "code",
   "execution_count": 97,
   "id": "f519fb7c-a979-4b0f-aaff-ec9bb8751d6c",
   "metadata": {},
   "outputs": [],
   "source": [
    "\n",
    "def send_mail():\n",
    "    server = smtplib.SMTP_SSL('smtp.gmail.com',465)\n",
    "    sever.elho()\n",
    "    server.login('poojadixit9873@gmailcom','Poojadixit@1981')\n",
    "\n",
    "    subject = \"The device you is want is below ₹54,500! Now is your chance to buy!\"\n",
    "    body = \"Harsh, This is the moment we have been waiting for. Now is your chance to pick up the shirt of your dreams. Don't mess it up! Link here: https://www.amazon.com/Funny-Data-Systems-Business-Analyst/dp/B07FNW9FGJ/ref=sr_1_3?dchild=1&keywords=data+analyst+tshirt&qid=1626655184&sr=8-3\"\n",
    "   \n",
    "    msg = f\"Subject: {subject}\\n\\n{body}\"\n",
    "    \n",
    "    server.sendmail(\n",
    "        'poojadixit9873@gmailcom',\n",
    "        msg\n",
    "     \n",
    "    )\n",
    "    "
   ]
  },
  {
   "cell_type": "code",
   "execution_count": null,
   "id": "477136ed-15d8-44e0-94b1-b13b3689df32",
   "metadata": {},
   "outputs": [],
   "source": []
  }
 ],
 "metadata": {
  "kernelspec": {
   "display_name": "Python 3 (ipykernel)",
   "language": "python",
   "name": "python3"
  },
  "language_info": {
   "codemirror_mode": {
    "name": "ipython",
    "version": 3
   },
   "file_extension": ".py",
   "mimetype": "text/x-python",
   "name": "python",
   "nbconvert_exporter": "python",
   "pygments_lexer": "ipython3",
   "version": "3.13.5"
  }
 },
 "nbformat": 4,
 "nbformat_minor": 5
}
